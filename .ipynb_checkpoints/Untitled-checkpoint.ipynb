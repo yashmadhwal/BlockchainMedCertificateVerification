{
 "cells": [
  {
   "cell_type": "code",
   "execution_count": 32,
   "metadata": {},
   "outputs": [],
   "source": [
    "# Importing libraries\n",
    "from web3 import Web3\n",
    "import json\n",
    "import ast"
   ]
  },
  {
   "cell_type": "code",
   "execution_count": 33,
   "metadata": {},
   "outputs": [
    {
     "name": "stdout",
     "output_type": "stream",
     "text": [
      "isConnected: True\n",
      "0xd5E152de4038984a0e9c397aFD761C16e5f49E37\n",
      "0x7aCE99747E492e1d6e1e050152F4Ef29dDb7949f\n",
      "0x5767e67DD2F7e570E43DDb1992b35e529c3C15F4\n",
      "0x357a7e1fa0473aea29030632fBBB4B0a2CF23310\n",
      "0x23BFdCCce34A19A30ff615417da97c9deeeB0f8D\n"
     ]
    }
   ],
   "source": [
    "#Connection to Blockchain\n",
    "from web3 import Web3\n",
    "web3 = Web3(Web3.HTTPProvider('HTTP://127.0.0.1:7545'))\n",
    "print(\"isConnected:\",web3.isConnected())\n",
    "\n",
    "#gettin lists of accounts available, Account[0] will be like an auditor account\n",
    "accounts_list = web3.eth.accounts\n",
    "for i in accounts_list:\n",
    "    print(i)"
   ]
  },
  {
   "cell_type": "code",
   "execution_count": 34,
   "metadata": {},
   "outputs": [
    {
     "name": "stdout",
     "output_type": "stream",
     "text": [
      "Ministry Manufacturer: 0xd5E152de4038984a0e9c397aFD761C16e5f49E37\n"
     ]
    }
   ],
   "source": [
    "#storing Health ministry of manufacture\n",
    "ministry_address = accounts_list[0]\n",
    "print(\"Ministry Manufacturer:\",ministry_address)"
   ]
  },
  {
   "cell_type": "code",
   "execution_count": 35,
   "metadata": {},
   "outputs": [
    {
     "name": "stdout",
     "output_type": "stream",
     "text": [
      "hospital_one: 0x7aCE99747E492e1d6e1e050152F4Ef29dDb7949f\n"
     ]
    }
   ],
   "source": [
    "#Hospital 1 address\n",
    "hospital_one = accounts_list[1]\n",
    "print(\"hospital_one:\",hospital_one)"
   ]
  },
  {
   "cell_type": "code",
   "execution_count": 36,
   "metadata": {},
   "outputs": [
    {
     "name": "stdout",
     "output_type": "stream",
     "text": [
      "hospital_one: 0x5767e67DD2F7e570E43DDb1992b35e529c3C15F4\n"
     ]
    }
   ],
   "source": [
    "#Hospital 2 address\n",
    "hospital_two = accounts_list[2]\n",
    "print(\"hospital_one:\",hospital_two)"
   ]
  },
  {
   "cell_type": "code",
   "execution_count": 37,
   "metadata": {},
   "outputs": [],
   "source": [
    "#taking contract instance:\n",
    "with open('build/contracts/MOSGOVCOVIDQR.json') as f:\n",
    "    file = json.load(f)"
   ]
  },
  {
   "cell_type": "code",
   "execution_count": 38,
   "metadata": {},
   "outputs": [],
   "source": [
    "address = file['networks']['5777']['address']\n",
    "abi = file['abi']\n",
    "contract = web3.eth.contract(address = address, abi = abi)"
   ]
  },
  {
   "cell_type": "code",
   "execution_count": 39,
   "metadata": {},
   "outputs": [
    {
     "name": "stdout",
     "output_type": "stream",
     "text": [
      "VM Exception while processing transaction: revert Hospital Id busy!\n"
     ]
    }
   ],
   "source": [
    "try:\n",
    "    _ = contract.functions.registerHospital('Hospital_1',hospital_one,'SputnikV',True).transact({'from':ministry_address})\n",
    "    print(_.hex())\n",
    "except ValueError as e:\n",
    "    print(ast.literal_eval(str(e))['message'])"
   ]
  },
  {
   "cell_type": "code",
   "execution_count": 41,
   "metadata": {},
   "outputs": [
    {
     "name": "stdout",
     "output_type": "stream",
     "text": [
      "0xbbd985b0c88f80b9acc775ec27e6e14ab14765b004a50e30024f8d2d9f1c4bf9\n"
     ]
    }
   ],
   "source": [
    "try:\n",
    "    _ = contract.functions.registerHospital('Hospital_2',hospital_two,'SputnikV',True).transact({'from':ministry_address})\n",
    "    print(_.hex())\n",
    "except ValueError as e:\n",
    "    print(ast.literal_eval(str(e))['message'])"
   ]
  },
  {
   "cell_type": "code",
   "execution_count": null,
   "metadata": {},
   "outputs": [],
   "source": [
    "#Signing transaction\n"
   ]
  }
 ],
 "metadata": {
  "kernelspec": {
   "display_name": "Python 3",
   "language": "python",
   "name": "python3"
  },
  "language_info": {
   "codemirror_mode": {
    "name": "ipython",
    "version": 3
   },
   "file_extension": ".py",
   "mimetype": "text/x-python",
   "name": "python",
   "nbconvert_exporter": "python",
   "pygments_lexer": "ipython3",
   "version": "3.7.6"
  }
 },
 "nbformat": 4,
 "nbformat_minor": 4
}
