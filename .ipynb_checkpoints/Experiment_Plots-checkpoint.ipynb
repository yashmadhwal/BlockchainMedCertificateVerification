{
 "cells": [
  {
   "cell_type": "code",
   "execution_count": 1,
   "metadata": {},
   "outputs": [],
   "source": [
    "# Importing libraries\n",
    "from web3 import Web3\n",
    "import json\n",
    "import ast"
   ]
  },
  {
   "cell_type": "code",
   "execution_count": 2,
   "metadata": {},
   "outputs": [
    {
     "name": "stdout",
     "output_type": "stream",
     "text": [
      "isConnected: True\n",
      "0x991Ef55455F76c6425c0D3b34855d3d732E96402\n",
      "0x1a78c8553Ab1a6d20f72bEE8A5bc4769297D0569\n",
      "0xF70939C0eF2B83e66c8EA5a1370c7c76A749C8a0\n",
      "0x6FB9b4A6436f2Fdf10B7Eb6264E4014976DF31a3\n",
      "0x722E515d35894FD8172848e9F1Ed152363596be9\n"
     ]
    }
   ],
   "source": [
    "#Connection to Blockchain\n",
    "from web3 import Web3\n",
    "web3 = Web3(Web3.HTTPProvider('HTTP://127.0.0.1:7545'))\n",
    "print(\"isConnected:\",web3.isConnected())\n",
    "\n",
    "#gettin lists of accounts available, Account[0] will be like an auditor account\n",
    "accounts_list = web3.eth.accounts\n",
    "for i in accounts_list:\n",
    "    print(i)"
   ]
  },
  {
   "cell_type": "code",
   "execution_count": 3,
   "metadata": {},
   "outputs": [
    {
     "name": "stdout",
     "output_type": "stream",
     "text": [
      "Ministry Manufacturer: 0x991Ef55455F76c6425c0D3b34855d3d732E96402\n"
     ]
    }
   ],
   "source": [
    "#storing Health ministry of manufacture\n",
    "ministry_address = accounts_list[0]\n",
    "print(\"Ministry Manufacturer:\",ministry_address)"
   ]
  },
  {
   "cell_type": "code",
   "execution_count": 4,
   "metadata": {},
   "outputs": [
    {
     "name": "stdout",
     "output_type": "stream",
     "text": [
      "hospital_one: 0x1a78c8553Ab1a6d20f72bEE8A5bc4769297D0569\n"
     ]
    }
   ],
   "source": [
    "#Hospital 1 address\n",
    "hospital_one = accounts_list[1]\n",
    "print(\"hospital_one:\",hospital_one)"
   ]
  },
  {
   "cell_type": "code",
   "execution_count": 5,
   "metadata": {},
   "outputs": [
    {
     "name": "stdout",
     "output_type": "stream",
     "text": [
      "hospital_one: 0xF70939C0eF2B83e66c8EA5a1370c7c76A749C8a0\n"
     ]
    }
   ],
   "source": [
    "#Hospital 2 address\n",
    "hospital_two = accounts_list[2]\n",
    "print(\"hospital_one:\",hospital_two)"
   ]
  },
  {
   "cell_type": "code",
   "execution_count": 6,
   "metadata": {},
   "outputs": [],
   "source": [
    "#taking contract instance:\n",
    "with open('build/contracts/MOSGOVCOVIDQR.json') as f:\n",
    "    file = json.load(f)"
   ]
  },
  {
   "cell_type": "code",
   "execution_count": 7,
   "metadata": {},
   "outputs": [],
   "source": [
    "address = file['networks']['5777']['address']\n",
    "abi = file['abi']\n",
    "contract = web3.eth.contract(address = address, abi = abi)"
   ]
  },
  {
   "cell_type": "code",
   "execution_count": 8,
   "metadata": {},
   "outputs": [
    {
     "name": "stdout",
     "output_type": "stream",
     "text": [
      "0x339e1e56c1f922f03f8956ddbb968033da6c2c015b1af860d8eeb0299a90d54c\n"
     ]
    }
   ],
   "source": [
    "try:\n",
    "    _ = contract.functions.registerHospital('Hospital_1',hospital_one,'SputnikV',True).transact({'from':ministry_address})\n",
    "    print(_.hex())\n",
    "except ValueError as e:\n",
    "    print(ast.literal_eval(str(e))['message'])"
   ]
  },
  {
   "cell_type": "code",
   "execution_count": 9,
   "metadata": {},
   "outputs": [
    {
     "name": "stdout",
     "output_type": "stream",
     "text": [
      "0x99274d98503d910192b8b9e1eade0f889f2be5b1b39edb7d2a054c2877ce2936\n"
     ]
    }
   ],
   "source": [
    "try:\n",
    "    _ = contract.functions.registerHospital('Hospital_2',hospital_two,'SputnikV',True).transact({'from':ministry_address})\n",
    "    print(_.hex())\n",
    "except ValueError as e:\n",
    "    print(ast.literal_eval(str(e))['message'])"
   ]
  },
  {
   "cell_type": "code",
   "execution_count": 10,
   "metadata": {},
   "outputs": [
    {
     "name": "stdout",
     "output_type": "stream",
     "text": [
      "0x9aa038ce00f5fd94eead86d2e2af34f00fa1128b73a345246ef02f0719dbea14\n"
     ]
    }
   ],
   "source": [
    "#Making Vaccination \n",
    "\n",
    "_ = contract.functions.VaccinatePeople().transact({'from':hospital_one})\n",
    "print(_.hex())"
   ]
  },
  {
   "cell_type": "code",
   "execution_count": 11,
   "metadata": {},
   "outputs": [
    {
     "name": "stdout",
     "output_type": "stream",
     "text": [
      "0x8f7149ed7348cd7efb9fd5dc34178e713be3caa28dc8cad73aea1b66d2cbb705\n"
     ]
    }
   ],
   "source": [
    "_ = contract.functions.VaccinatePeople().transact({'from':hospital_one})\n",
    "print(_.hex())"
   ]
  },
  {
   "cell_type": "code",
   "execution_count": 12,
   "metadata": {},
   "outputs": [
    {
     "name": "stdout",
     "output_type": "stream",
     "text": [
      "0x82a33d058b06f643ab0bf2ef8ba5a692062496a1a944cc862e93fa39d33f44ad\n"
     ]
    }
   ],
   "source": [
    "_ = contract.functions.VaccinatePeople().transact({'from':hospital_one})\n",
    "print(_.hex())"
   ]
  },
  {
   "cell_type": "code",
   "execution_count": 14,
   "metadata": {},
   "outputs": [
    {
     "name": "stdout",
     "output_type": "stream",
     "text": [
      "3\n"
     ]
    }
   ],
   "source": [
    "# checking certificate count\n",
    "print(contract.functions.vaccineCard().call() - 1) # We do -1 just to see how many done."
   ]
  },
  {
   "cell_type": "code",
   "execution_count": 17,
   "metadata": {},
   "outputs": [
    {
     "name": "stdout",
     "output_type": "stream",
     "text": [
      "[1, 'SomeName', 1627640583, 1, 'Hospital_1', '0x1a78c8553Ab1a6d20f72bEE8A5bc4769297D0569', 'SputnikV']\n"
     ]
    }
   ],
   "source": [
    "# Checking certificate number\n",
    "print(contract.functions.PublicBook(1).call())"
   ]
  },
  {
   "cell_type": "code",
   "execution_count": null,
   "metadata": {},
   "outputs": [],
   "source": []
  }
 ],
 "metadata": {
  "kernelspec": {
   "display_name": "Python 3",
   "language": "python",
   "name": "python3"
  },
  "language_info": {
   "codemirror_mode": {
    "name": "ipython",
    "version": 3
   },
   "file_extension": ".py",
   "mimetype": "text/x-python",
   "name": "python",
   "nbconvert_exporter": "python",
   "pygments_lexer": "ipython3",
   "version": "3.7.6"
  }
 },
 "nbformat": 4,
 "nbformat_minor": 4
}
