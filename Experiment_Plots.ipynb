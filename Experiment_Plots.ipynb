{
 "cells": [
  {
   "cell_type": "code",
   "execution_count": 1,
   "metadata": {},
   "outputs": [],
   "source": [
    "# Importing libraries\n",
    "from web3 import Web3\n",
    "import json\n",
    "import ast"
   ]
  },
  {
   "cell_type": "code",
   "execution_count": 2,
   "metadata": {},
   "outputs": [
    {
     "name": "stdout",
     "output_type": "stream",
     "text": [
      "isConnected: True\n",
      "0xACEadb1a4FB79A25635AEf6466d3D9A8b579cF45\n",
      "0x69aCcccC9857085ab304aa90268e4c9Bf298b85A\n",
      "0x94A8cE7D77F6eef80248Ea624c7B673A8c4200A7\n",
      "0xB683E8b9d023b0D4F3C7020A84Ba041aBD7A57AD\n",
      "0x3CDAFf98400617A75B930C510559F831292cf58a\n"
     ]
    }
   ],
   "source": [
    "#Connection to Blockchain\n",
    "from web3 import Web3\n",
    "web3 = Web3(Web3.HTTPProvider('HTTP://127.0.0.1:7545'))\n",
    "print(\"isConnected:\",web3.isConnected())\n",
    "\n",
    "#gettin lists of accounts available, Account[0] will be like an auditor account\n",
    "accounts_list = web3.eth.accounts\n",
    "for i in accounts_list:\n",
    "    print(i)"
   ]
  },
  {
   "cell_type": "code",
   "execution_count": 3,
   "metadata": {},
   "outputs": [
    {
     "name": "stdout",
     "output_type": "stream",
     "text": [
      "Ministry Manufacturer: 0xACEadb1a4FB79A25635AEf6466d3D9A8b579cF45\n"
     ]
    }
   ],
   "source": [
    "#storing Health ministry of manufacture\n",
    "ministry_address = accounts_list[0]\n",
    "print(\"Ministry Manufacturer:\",ministry_address)"
   ]
  },
  {
   "cell_type": "code",
   "execution_count": 4,
   "metadata": {},
   "outputs": [
    {
     "name": "stdout",
     "output_type": "stream",
     "text": [
      "hospital_one: 0x69aCcccC9857085ab304aa90268e4c9Bf298b85A\n"
     ]
    }
   ],
   "source": [
    "#Hospital 1 address\n",
    "hospital_one = accounts_list[1]\n",
    "print(\"hospital_one:\",hospital_one)"
   ]
  },
  {
   "cell_type": "code",
   "execution_count": 5,
   "metadata": {},
   "outputs": [
    {
     "name": "stdout",
     "output_type": "stream",
     "text": [
      "hospital_one: 0x94A8cE7D77F6eef80248Ea624c7B673A8c4200A7\n"
     ]
    }
   ],
   "source": [
    "#Hospital 2 address\n",
    "hospital_two = accounts_list[2]\n",
    "print(\"hospital_one:\",hospital_two)"
   ]
  },
  {
   "cell_type": "code",
   "execution_count": 6,
   "metadata": {},
   "outputs": [],
   "source": [
    "#taking contract instance:\n",
    "with open('build/contracts/MOSGOVCOVIDQR.json') as f:\n",
    "    file = json.load(f)"
   ]
  },
  {
   "cell_type": "code",
   "execution_count": 7,
   "metadata": {},
   "outputs": [],
   "source": [
    "address = file['networks']['5777']['address']\n",
    "abi = file['abi']\n",
    "contract = web3.eth.contract(address = address, abi = abi)"
   ]
  },
  {
   "cell_type": "code",
   "execution_count": 8,
   "metadata": {},
   "outputs": [
    {
     "name": "stdout",
     "output_type": "stream",
     "text": [
      "0xa804f207a70fd5765c39e3878f1e7aad0ce2e00fead38d04679401513ee366d4\n"
     ]
    }
   ],
   "source": [
    "try:\n",
    "    _ = contract.functions.registerHospital('Hospital_1',hospital_one,'SputnikV',True).transact({'from':ministry_address})\n",
    "    print(_.hex())\n",
    "except ValueError as e:\n",
    "    print(ast.literal_eval(str(e))['message'])"
   ]
  },
  {
   "cell_type": "code",
   "execution_count": 9,
   "metadata": {},
   "outputs": [
    {
     "name": "stdout",
     "output_type": "stream",
     "text": [
      "0x4c435a68db240b36ae69048ef93086d88e527e4c098604142b26be694c8e59f8\n"
     ]
    }
   ],
   "source": [
    "try:\n",
    "    _ = contract.functions.registerHospital('Hospital_2',hospital_two,'SputnikV',True).transact({'from':ministry_address})\n",
    "    print(_.hex())\n",
    "except ValueError as e:\n",
    "    print(ast.literal_eval(str(e))['message'])"
   ]
  },
  {
   "cell_type": "code",
   "execution_count": 10,
   "metadata": {},
   "outputs": [
    {
     "name": "stdout",
     "output_type": "stream",
     "text": [
      "0x8711a2bbf633bc0870f9c3818ecf7c0b51f9abbc16a14430071dead33fe248af\n"
     ]
    }
   ],
   "source": [
    "#Making Vaccination \n",
    "\n",
    "_ = contract.functions.VaccinatePeople('Yash').transact({'from':hospital_one})\n",
    "print(_.hex())"
   ]
  },
  {
   "cell_type": "code",
   "execution_count": 11,
   "metadata": {},
   "outputs": [
    {
     "name": "stdout",
     "output_type": "stream",
     "text": [
      "0x07ec783d4fabb63899c8179d3e1a57008673ef0cb9d34254d20d71bf47383325\n"
     ]
    }
   ],
   "source": [
    "_ = contract.functions.VaccinatePeople('Olga').transact({'from':hospital_one})\n",
    "print(_.hex())"
   ]
  },
  {
   "cell_type": "code",
   "execution_count": 12,
   "metadata": {},
   "outputs": [
    {
     "name": "stdout",
     "output_type": "stream",
     "text": [
      "0x57d69f06db43c07ea81dcf289ffe1567a88b2b49f883859f51c38ae3b04cc8a9\n"
     ]
    }
   ],
   "source": [
    "_ = contract.functions.VaccinatePeople('Vansh').transact({'from':hospital_one})\n",
    "print(_.hex())"
   ]
  },
  {
   "cell_type": "code",
   "execution_count": 13,
   "metadata": {},
   "outputs": [
    {
     "name": "stdout",
     "output_type": "stream",
     "text": [
      "3\n"
     ]
    }
   ],
   "source": [
    "# checking certificate count\n",
    "print(contract.functions.vaccineCard().call() - 1) # We do -1 just to see how many done."
   ]
  },
  {
   "cell_type": "code",
   "execution_count": 14,
   "metadata": {},
   "outputs": [
    {
     "name": "stdout",
     "output_type": "stream",
     "text": [
      "[1, 'Yash', 1627901260, 1, 'Hospital_1', '0x69aCcccC9857085ab304aa90268e4c9Bf298b85A', 'SputnikV']\n"
     ]
    }
   ],
   "source": [
    "# Checking certificate number\n",
    "print(contract.functions.PublicBook(1).call())"
   ]
  },
  {
   "cell_type": "code",
   "execution_count": 15,
   "metadata": {},
   "outputs": [
    {
     "name": "stdout",
     "output_type": "stream",
     "text": [
      "[2, 'Olga', 1627901260, 1, 'Hospital_1', '0x69aCcccC9857085ab304aa90268e4c9Bf298b85A', 'SputnikV']\n"
     ]
    }
   ],
   "source": [
    "print(contract.functions.PublicBook(2).call())"
   ]
  },
  {
   "cell_type": "code",
   "execution_count": 16,
   "metadata": {},
   "outputs": [
    {
     "name": "stdout",
     "output_type": "stream",
     "text": [
      "[3, 'Vansh', 1627901260, 1, 'Hospital_1', '0x69aCcccC9857085ab304aa90268e4c9Bf298b85A', 'SputnikV']\n"
     ]
    }
   ],
   "source": [
    "print(contract.functions.PublicBook(3).call())"
   ]
  },
  {
   "cell_type": "code",
   "execution_count": null,
   "metadata": {},
   "outputs": [],
   "source": []
  }
 ],
 "metadata": {
  "kernelspec": {
   "display_name": "Python 3",
   "language": "python",
   "name": "python3"
  },
  "language_info": {
   "codemirror_mode": {
    "name": "ipython",
    "version": 3
   },
   "file_extension": ".py",
   "mimetype": "text/x-python",
   "name": "python",
   "nbconvert_exporter": "python",
   "pygments_lexer": "ipython3",
   "version": "3.7.6"
  }
 },
 "nbformat": 4,
 "nbformat_minor": 4
}
