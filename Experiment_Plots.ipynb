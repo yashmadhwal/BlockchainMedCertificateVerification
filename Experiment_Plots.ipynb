{
 "cells": [
  {
   "cell_type": "code",
   "execution_count": 1,
   "metadata": {},
   "outputs": [],
   "source": [
    "# Importing libraries\n",
    "from web3 import Web3\n",
    "import json\n",
    "import ast\n",
    "import names\n",
    "import random"
   ]
  },
  {
   "cell_type": "code",
   "execution_count": 2,
   "metadata": {},
   "outputs": [
    {
     "name": "stdout",
     "output_type": "stream",
     "text": [
      "isConnected: True\n",
      "0x643dB7dAdaE70FAB144c66f8ceAD5C92e9a0e930\n",
      "0xF39C678F0B26cF6a4AC445fbE3F6e6cd56C7634e\n",
      "0xf94bFC98712902E5Bea46F82D50fa832D73E592C\n",
      "0x78212f69AaCc102534B865d61E011691C779c7Bd\n",
      "0x23A71f59663cD651de3b10ac128eDB7fC7e1fa07\n"
     ]
    }
   ],
   "source": [
    "#Connection to Blockchain\n",
    "from web3 import Web3\n",
    "web3 = Web3(Web3.HTTPProvider('HTTP://127.0.0.1:7545'))\n",
    "print(\"isConnected:\",web3.isConnected())\n",
    "\n",
    "#gettin lists of accounts available, Account[0] will be like an auditor account\n",
    "accounts_list = web3.eth.accounts\n",
    "for i in accounts_list:\n",
    "    print(i)"
   ]
  },
  {
   "cell_type": "code",
   "execution_count": 3,
   "metadata": {},
   "outputs": [
    {
     "name": "stdout",
     "output_type": "stream",
     "text": [
      "Ministry Manufacturer: 0x643dB7dAdaE70FAB144c66f8ceAD5C92e9a0e930\n"
     ]
    }
   ],
   "source": [
    "#storing Health ministry of manufacture\n",
    "ministry_address = accounts_list[0]\n",
    "print(\"Ministry Manufacturer:\",ministry_address)"
   ]
  },
  {
   "cell_type": "code",
   "execution_count": 4,
   "metadata": {},
   "outputs": [
    {
     "name": "stdout",
     "output_type": "stream",
     "text": [
      "hospital_one: 0xF39C678F0B26cF6a4AC445fbE3F6e6cd56C7634e\n"
     ]
    }
   ],
   "source": [
    "#Hospital 1 address\n",
    "hospital_one = accounts_list[1]\n",
    "print(\"hospital_one:\",hospital_one)"
   ]
  },
  {
   "cell_type": "code",
   "execution_count": 5,
   "metadata": {},
   "outputs": [
    {
     "name": "stdout",
     "output_type": "stream",
     "text": [
      "hospital_one: 0xf94bFC98712902E5Bea46F82D50fa832D73E592C\n"
     ]
    }
   ],
   "source": [
    "#Hospital 2 address\n",
    "hospital_two = accounts_list[2]\n",
    "print(\"hospital_one:\",hospital_two)"
   ]
  },
  {
   "cell_type": "code",
   "execution_count": 6,
   "metadata": {},
   "outputs": [
    {
     "name": "stdout",
     "output_type": "stream",
     "text": [
      "hospital_one: 0x78212f69AaCc102534B865d61E011691C779c7Bd\n"
     ]
    }
   ],
   "source": [
    "hospital_three = accounts_list[3]\n",
    "print(\"hospital_one:\",hospital_three)"
   ]
  },
  {
   "cell_type": "code",
   "execution_count": 7,
   "metadata": {},
   "outputs": [
    {
     "name": "stdout",
     "output_type": "stream",
     "text": [
      "hospital_one: 0x23A71f59663cD651de3b10ac128eDB7fC7e1fa07\n"
     ]
    }
   ],
   "source": [
    "hospital_four = accounts_list[4]\n",
    "print(\"hospital_one:\",hospital_four)"
   ]
  },
  {
   "cell_type": "code",
   "execution_count": null,
   "metadata": {},
   "outputs": [],
   "source": []
  },
  {
   "cell_type": "code",
   "execution_count": 8,
   "metadata": {},
   "outputs": [],
   "source": [
    "#taking contract instance:\n",
    "with open('build/contracts/MOSGOVCOVIDQR.json') as f:\n",
    "    file = json.load(f)"
   ]
  },
  {
   "cell_type": "code",
   "execution_count": 9,
   "metadata": {},
   "outputs": [],
   "source": [
    "address = file['networks']['5777']['address']\n",
    "abi = file['abi']\n",
    "contract = web3.eth.contract(address = address, abi = abi)"
   ]
  },
  {
   "cell_type": "code",
   "execution_count": 10,
   "metadata": {},
   "outputs": [],
   "source": [
    "#Registering 4 hospitals"
   ]
  },
  {
   "cell_type": "code",
   "execution_count": 11,
   "metadata": {},
   "outputs": [
    {
     "name": "stdout",
     "output_type": "stream",
     "text": [
      "0x34ce208e54ad29a1750c3c853c79061677a67630eeb5c9417d15e23918e1e9cb\n"
     ]
    }
   ],
   "source": [
    "try:\n",
    "    _ = contract.functions.registerHospital('Hospital_1',hospital_one,'SputnikV',True).transact({'from':ministry_address})\n",
    "    print(_.hex())\n",
    "except ValueError as e:\n",
    "    print(ast.literal_eval(str(e))['message'])"
   ]
  },
  {
   "cell_type": "code",
   "execution_count": 12,
   "metadata": {},
   "outputs": [
    {
     "name": "stdout",
     "output_type": "stream",
     "text": [
      "0x16836f6f3b1e39dd747d429374473d7359300822b5f07d1a7239f0cf50bdb451\n"
     ]
    }
   ],
   "source": [
    "try:\n",
    "    _ = contract.functions.registerHospital('Hospital_2',hospital_two,'Pfizer',True).transact({'from':ministry_address})\n",
    "    print(_.hex())\n",
    "except ValueError as e:\n",
    "    print(ast.literal_eval(str(e))['message'])"
   ]
  },
  {
   "cell_type": "code",
   "execution_count": 13,
   "metadata": {},
   "outputs": [
    {
     "name": "stdout",
     "output_type": "stream",
     "text": [
      "0xfe4c9dded5caef1940a98179c045ba335c50628acd10fbc6ccaaa2a1cc7c443c\n"
     ]
    }
   ],
   "source": [
    "try:\n",
    "    _ = contract.functions.registerHospital('Hospital_3',hospital_three,'SputnikLite',True).transact({'from':ministry_address})\n",
    "    print(_.hex())\n",
    "except ValueError as e:\n",
    "    print(ast.literal_eval(str(e))['message'])"
   ]
  },
  {
   "cell_type": "code",
   "execution_count": 14,
   "metadata": {},
   "outputs": [
    {
     "name": "stdout",
     "output_type": "stream",
     "text": [
      "0x774e608c9a619d885287107458fb63f6c97a52b60cc79b80f90067dc47086e4e\n"
     ]
    }
   ],
   "source": [
    "try:\n",
    "    _ = contract.functions.registerHospital('Hospital_4',hospital_four,'Moderna',True).transact({'from':ministry_address})\n",
    "    print(_.hex())\n",
    "except ValueError as e:\n",
    "    print(ast.literal_eval(str(e))['message'])"
   ]
  },
  {
   "cell_type": "code",
   "execution_count": 15,
   "metadata": {},
   "outputs": [],
   "source": [
    "#Making Vaccination from random hospital with random names:\n",
    "for i in range(1000):\n",
    "    contract.functions.VaccinatePeople(names.get_full_name()).transact({'from':accounts_list[random.randint(1, 4)]})"
   ]
  },
  {
   "cell_type": "code",
   "execution_count": 16,
   "metadata": {},
   "outputs": [
    {
     "name": "stdout",
     "output_type": "stream",
     "text": [
      "1000\n"
     ]
    }
   ],
   "source": [
    "# checking certificate count\n",
    "print(contract.functions.vaccineCard().call() - 1) # We do -1 just to see how many done."
   ]
  },
  {
   "cell_type": "code",
   "execution_count": 17,
   "metadata": {},
   "outputs": [
    {
     "name": "stdout",
     "output_type": "stream",
     "text": [
      "[1, 'Cheryl Casteel', 1628169348, 3, 'Hospital_3', '0x78212f69AaCc102534B865d61E011691C779c7Bd', 'SputnikLite']\n"
     ]
    }
   ],
   "source": [
    "# Checking certificate number\n",
    "print(contract.functions.PublicBook(1).call())"
   ]
  },
  {
   "cell_type": "code",
   "execution_count": 18,
   "metadata": {},
   "outputs": [
    {
     "name": "stdout",
     "output_type": "stream",
     "text": [
      "[2, 'Carlos Trippel', 1628169348, 1, 'Hospital_1', '0xF39C678F0B26cF6a4AC445fbE3F6e6cd56C7634e', 'SputnikV']\n"
     ]
    }
   ],
   "source": [
    "print(contract.functions.PublicBook(2).call())"
   ]
  },
  {
   "cell_type": "code",
   "execution_count": 19,
   "metadata": {},
   "outputs": [
    {
     "name": "stdout",
     "output_type": "stream",
     "text": [
      "[3, 'Hester Charron', 1628169348, 3, 'Hospital_3', '0x78212f69AaCc102534B865d61E011691C779c7Bd', 'SputnikLite']\n"
     ]
    }
   ],
   "source": [
    "print(contract.functions.PublicBook(3).call())"
   ]
  },
  {
   "cell_type": "code",
   "execution_count": null,
   "metadata": {},
   "outputs": [],
   "source": []
  },
  {
   "cell_type": "code",
   "execution_count": null,
   "metadata": {},
   "outputs": [],
   "source": []
  },
  {
   "cell_type": "code",
   "execution_count": 20,
   "metadata": {},
   "outputs": [
    {
     "name": "stdout",
     "output_type": "stream",
     "text": [
      "Erin Lasalle\n",
      "Anne Bartlett\n",
      "Rick Dunn\n",
      "Freddie Cole\n",
      "Juana Hoffman\n",
      "Peter Nelson\n",
      "William Garcia\n",
      "Susan Coronado\n",
      "Rodney Monroe\n",
      "Jose Davis\n",
      "Rosa Nunez\n",
      "Eric Tiano\n",
      "Angelique Nguyen\n",
      "James Simmons\n",
      "Erik Engemann\n",
      "Kevin Marsh\n",
      "Dale Harrison\n",
      "Cody Drake\n",
      "May Higa\n",
      "Elizabeth Norris\n",
      "Blanche Cassidy\n",
      "Victor Minjarez\n",
      "Angelia Slape\n",
      "Judith Poulsen\n",
      "Roger Mason\n",
      "Kimberly Foster\n",
      "Deborah Martinez\n",
      "Jeffrey Robertson\n",
      "Arnold Stein\n",
      "Jeffery White\n",
      "Ann Zamora\n",
      "Cortney Houston\n",
      "Marilyn Ezell\n",
      "Lesley Adams\n",
      "Regina Melton\n",
      "Robert Pepper\n",
      "Patrick Lorona\n",
      "Linda Blair\n",
      "Tina Peltier\n",
      "Annie Sadler\n",
      "Cindy Campbell\n",
      "Mary Nye\n",
      "Mark Rice\n",
      "Jacqueline Crandall\n",
      "Karen Mathews\n",
      "Michael Friscia\n",
      "Mary Moreau\n",
      "Ryan Pharr\n",
      "Lee Howard\n",
      "Julio Freeman\n",
      "Paul Stuckey\n",
      "Michael Mcclelland\n",
      "Carl Dunigan\n",
      "Allen Sinclair\n",
      "Maryann Caraway\n",
      "Andre Holman\n",
      "Jeffry Murders\n",
      "Anthony Shelley\n",
      "Harry Sheridan\n",
      "Don Tabron\n",
      "Laura Powell\n",
      "James Wilson\n",
      "Ann Roth\n",
      "Mark Webb\n",
      "Magdalena Beckwith\n",
      "Amanda Nugent\n",
      "Randall Trappey\n",
      "Marilyn Delmoro\n",
      "William Adams\n",
      "William Delapena\n",
      "Todd Vitale\n",
      "Margaret Austin\n",
      "Carol Suddreth\n",
      "Reynaldo Lee\n",
      "Mary Reynolds\n",
      "Paul Kyser\n",
      "Timothy Love\n",
      "Marie Schaal\n",
      "Keisha Spivey\n",
      "Jamie Schweinfurth\n",
      "Lois Josey\n",
      "Charlotte Church\n",
      "Imogene Franco\n",
      "Hubert Tegeler\n",
      "Ann Adams\n",
      "Jenny Socha\n",
      "Andres Walker\n",
      "Alline Bumpus\n",
      "Carlos Mccoy\n",
      "Robert Schultz\n",
      "Phyllis Rowland\n",
      "Kent Robinson\n",
      "Clark Harris\n",
      "Beatrice Gordo\n",
      "Jack Longino\n",
      "Allan Glover\n",
      "Nicholas Ogle\n",
      "Lisa Doss\n",
      "Minerva Herstad\n",
      "Louis Austin\n"
     ]
    }
   ],
   "source": [
    "for i in range(100):\n",
    "    print(names.get_full_name())"
   ]
  },
  {
   "cell_type": "code",
   "execution_count": null,
   "metadata": {},
   "outputs": [],
   "source": []
  }
 ],
 "metadata": {
  "kernelspec": {
   "display_name": "Python 3",
   "language": "python",
   "name": "python3"
  },
  "language_info": {
   "codemirror_mode": {
    "name": "ipython",
    "version": 3
   },
   "file_extension": ".py",
   "mimetype": "text/x-python",
   "name": "python",
   "nbconvert_exporter": "python",
   "pygments_lexer": "ipython3",
   "version": "3.7.6"
  }
 },
 "nbformat": 4,
 "nbformat_minor": 4
}
